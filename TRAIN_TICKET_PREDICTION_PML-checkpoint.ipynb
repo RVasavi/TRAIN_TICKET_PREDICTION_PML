{
 "cells": [
  {
   "cell_type": "code",
   "execution_count": 516,
   "id": "83090aa0",
   "metadata": {},
   "outputs": [],
   "source": [
    "import pandas as pd"
   ]
  },
  {
   "cell_type": "code",
   "execution_count": 517,
   "id": "9732fed6",
   "metadata": {},
   "outputs": [],
   "source": [
    "import matplotlib.pyplot as plt"
   ]
  },
  {
   "cell_type": "code",
   "execution_count": 518,
   "id": "0ead4676",
   "metadata": {},
   "outputs": [],
   "source": [
    "import numpy as np\n",
    "import seaborn as sns"
   ]
  },
  {
   "cell_type": "code",
   "execution_count": 519,
   "id": "2d72423e",
   "metadata": {},
   "outputs": [],
   "source": [
    "df = pd.read_csv(\"TB_Data_2.csv\")"
   ]
  },
  {
   "cell_type": "code",
   "execution_count": 520,
   "id": "5e805392",
   "metadata": {},
   "outputs": [
    {
     "data": {
      "text/html": [
       "<div>\n",
       "<style scoped>\n",
       "    .dataframe tbody tr th:only-of-type {\n",
       "        vertical-align: middle;\n",
       "    }\n",
       "\n",
       "    .dataframe tbody tr th {\n",
       "        vertical-align: top;\n",
       "    }\n",
       "\n",
       "    .dataframe thead th {\n",
       "        text-align: right;\n",
       "    }\n",
       "</style>\n",
       "<table border=\"1\" class=\"dataframe\">\n",
       "  <thead>\n",
       "    <tr style=\"text-align: right;\">\n",
       "      <th></th>\n",
       "      <th>BookingStatus</th>\n",
       "      <th>Wno</th>\n",
       "      <th>ClassOfTravel</th>\n",
       "      <th>JourneyDate</th>\n",
       "      <th>Weekdays</th>\n",
       "      <th>Month</th>\n",
       "      <th>Days</th>\n",
       "      <th>Astatus</th>\n",
       "    </tr>\n",
       "  </thead>\n",
       "  <tbody>\n",
       "    <tr>\n",
       "      <th>0</th>\n",
       "      <td>WL</td>\n",
       "      <td>9</td>\n",
       "      <td>3A</td>\n",
       "      <td>2/12/2016</td>\n",
       "      <td>6</td>\n",
       "      <td>12</td>\n",
       "      <td>2</td>\n",
       "      <td>1</td>\n",
       "    </tr>\n",
       "    <tr>\n",
       "      <th>1</th>\n",
       "      <td>WL</td>\n",
       "      <td>3</td>\n",
       "      <td>3A</td>\n",
       "      <td>1/12/2016</td>\n",
       "      <td>5</td>\n",
       "      <td>12</td>\n",
       "      <td>1</td>\n",
       "      <td>1</td>\n",
       "    </tr>\n",
       "    <tr>\n",
       "      <th>2</th>\n",
       "      <td>WL</td>\n",
       "      <td>1</td>\n",
       "      <td>2A</td>\n",
       "      <td>3/12/2016</td>\n",
       "      <td>7</td>\n",
       "      <td>12</td>\n",
       "      <td>3</td>\n",
       "      <td>0</td>\n",
       "    </tr>\n",
       "    <tr>\n",
       "      <th>3</th>\n",
       "      <td>WL</td>\n",
       "      <td>67</td>\n",
       "      <td>SL</td>\n",
       "      <td>3/12/2016</td>\n",
       "      <td>7</td>\n",
       "      <td>12</td>\n",
       "      <td>3</td>\n",
       "      <td>0</td>\n",
       "    </tr>\n",
       "    <tr>\n",
       "      <th>4</th>\n",
       "      <td>WL</td>\n",
       "      <td>61</td>\n",
       "      <td>SL</td>\n",
       "      <td>3/12/2016</td>\n",
       "      <td>7</td>\n",
       "      <td>12</td>\n",
       "      <td>3</td>\n",
       "      <td>0</td>\n",
       "    </tr>\n",
       "    <tr>\n",
       "      <th>...</th>\n",
       "      <td>...</td>\n",
       "      <td>...</td>\n",
       "      <td>...</td>\n",
       "      <td>...</td>\n",
       "      <td>...</td>\n",
       "      <td>...</td>\n",
       "      <td>...</td>\n",
       "      <td>...</td>\n",
       "    </tr>\n",
       "    <tr>\n",
       "      <th>3220</th>\n",
       "      <td>TQWL</td>\n",
       "      <td>25</td>\n",
       "      <td>SL</td>\n",
       "      <td>19-07-2018</td>\n",
       "      <td>5</td>\n",
       "      <td>7</td>\n",
       "      <td>19</td>\n",
       "      <td>0</td>\n",
       "    </tr>\n",
       "    <tr>\n",
       "      <th>3221</th>\n",
       "      <td>TQWL</td>\n",
       "      <td>53</td>\n",
       "      <td>SL</td>\n",
       "      <td>20-07-2018</td>\n",
       "      <td>6</td>\n",
       "      <td>7</td>\n",
       "      <td>20</td>\n",
       "      <td>0</td>\n",
       "    </tr>\n",
       "    <tr>\n",
       "      <th>3222</th>\n",
       "      <td>TQWL</td>\n",
       "      <td>58</td>\n",
       "      <td>SL</td>\n",
       "      <td>20-07-2018</td>\n",
       "      <td>6</td>\n",
       "      <td>7</td>\n",
       "      <td>20</td>\n",
       "      <td>0</td>\n",
       "    </tr>\n",
       "    <tr>\n",
       "      <th>3223</th>\n",
       "      <td>TQWL</td>\n",
       "      <td>52</td>\n",
       "      <td>SL</td>\n",
       "      <td>20-07-2018</td>\n",
       "      <td>6</td>\n",
       "      <td>7</td>\n",
       "      <td>20</td>\n",
       "      <td>0</td>\n",
       "    </tr>\n",
       "    <tr>\n",
       "      <th>3224</th>\n",
       "      <td>TQWL</td>\n",
       "      <td>19</td>\n",
       "      <td>SL</td>\n",
       "      <td>20-07-2018</td>\n",
       "      <td>6</td>\n",
       "      <td>7</td>\n",
       "      <td>20</td>\n",
       "      <td>0</td>\n",
       "    </tr>\n",
       "  </tbody>\n",
       "</table>\n",
       "<p>3225 rows × 8 columns</p>\n",
       "</div>"
      ],
      "text/plain": [
       "     BookingStatus  Wno ClassOfTravel JourneyDate  Weekdays  Month  Days  \\\n",
       "0               WL    9            3A   2/12/2016         6     12     2   \n",
       "1               WL    3            3A   1/12/2016         5     12     1   \n",
       "2               WL    1            2A   3/12/2016         7     12     3   \n",
       "3               WL   67            SL   3/12/2016         7     12     3   \n",
       "4               WL   61            SL   3/12/2016         7     12     3   \n",
       "...            ...  ...           ...         ...       ...    ...   ...   \n",
       "3220          TQWL   25            SL  19-07-2018         5      7    19   \n",
       "3221          TQWL   53            SL  20-07-2018         6      7    20   \n",
       "3222          TQWL   58            SL  20-07-2018         6      7    20   \n",
       "3223          TQWL   52            SL  20-07-2018         6      7    20   \n",
       "3224          TQWL   19            SL  20-07-2018         6      7    20   \n",
       "\n",
       "      Astatus  \n",
       "0           1  \n",
       "1           1  \n",
       "2           0  \n",
       "3           0  \n",
       "4           0  \n",
       "...       ...  \n",
       "3220        0  \n",
       "3221        0  \n",
       "3222        0  \n",
       "3223        0  \n",
       "3224        0  \n",
       "\n",
       "[3225 rows x 8 columns]"
      ]
     },
     "execution_count": 520,
     "metadata": {},
     "output_type": "execute_result"
    }
   ],
   "source": [
    "df"
   ]
  },
  {
   "cell_type": "code",
   "execution_count": 521,
   "id": "179724b0",
   "metadata": {},
   "outputs": [
    {
     "data": {
      "text/plain": [
       "BookingStatus    0\n",
       "Wno              0\n",
       "ClassOfTravel    0\n",
       "JourneyDate      0\n",
       "Weekdays         0\n",
       "Month            0\n",
       "Days             0\n",
       "Astatus          0\n",
       "dtype: int64"
      ]
     },
     "execution_count": 521,
     "metadata": {},
     "output_type": "execute_result"
    }
   ],
   "source": [
    "df.isnull().sum(axis=0)\n"
   ]
  },
  {
   "cell_type": "code",
   "execution_count": 522,
   "id": "120dd5ab",
   "metadata": {},
   "outputs": [
    {
     "data": {
      "text/html": [
       "<div>\n",
       "<style scoped>\n",
       "    .dataframe tbody tr th:only-of-type {\n",
       "        vertical-align: middle;\n",
       "    }\n",
       "\n",
       "    .dataframe tbody tr th {\n",
       "        vertical-align: top;\n",
       "    }\n",
       "\n",
       "    .dataframe thead th {\n",
       "        text-align: right;\n",
       "    }\n",
       "</style>\n",
       "<table border=\"1\" class=\"dataframe\">\n",
       "  <thead>\n",
       "    <tr style=\"text-align: right;\">\n",
       "      <th></th>\n",
       "      <th>BookingStatus</th>\n",
       "      <th>Wno</th>\n",
       "      <th>ClassOfTravel</th>\n",
       "      <th>JourneyDate</th>\n",
       "      <th>Weekdays</th>\n",
       "      <th>Month</th>\n",
       "      <th>Days</th>\n",
       "      <th>Astatus</th>\n",
       "    </tr>\n",
       "  </thead>\n",
       "  <tbody>\n",
       "    <tr>\n",
       "      <th>0</th>\n",
       "      <td>WL</td>\n",
       "      <td>9</td>\n",
       "      <td>3A</td>\n",
       "      <td>2/12/2016</td>\n",
       "      <td>6</td>\n",
       "      <td>12</td>\n",
       "      <td>2</td>\n",
       "      <td>1</td>\n",
       "    </tr>\n",
       "    <tr>\n",
       "      <th>1</th>\n",
       "      <td>WL</td>\n",
       "      <td>3</td>\n",
       "      <td>3A</td>\n",
       "      <td>1/12/2016</td>\n",
       "      <td>5</td>\n",
       "      <td>12</td>\n",
       "      <td>1</td>\n",
       "      <td>1</td>\n",
       "    </tr>\n",
       "    <tr>\n",
       "      <th>2</th>\n",
       "      <td>WL</td>\n",
       "      <td>1</td>\n",
       "      <td>2A</td>\n",
       "      <td>3/12/2016</td>\n",
       "      <td>7</td>\n",
       "      <td>12</td>\n",
       "      <td>3</td>\n",
       "      <td>0</td>\n",
       "    </tr>\n",
       "    <tr>\n",
       "      <th>3</th>\n",
       "      <td>WL</td>\n",
       "      <td>67</td>\n",
       "      <td>SL</td>\n",
       "      <td>3/12/2016</td>\n",
       "      <td>7</td>\n",
       "      <td>12</td>\n",
       "      <td>3</td>\n",
       "      <td>0</td>\n",
       "    </tr>\n",
       "    <tr>\n",
       "      <th>4</th>\n",
       "      <td>WL</td>\n",
       "      <td>61</td>\n",
       "      <td>SL</td>\n",
       "      <td>3/12/2016</td>\n",
       "      <td>7</td>\n",
       "      <td>12</td>\n",
       "      <td>3</td>\n",
       "      <td>0</td>\n",
       "    </tr>\n",
       "  </tbody>\n",
       "</table>\n",
       "</div>"
      ],
      "text/plain": [
       "  BookingStatus  Wno ClassOfTravel JourneyDate  Weekdays  Month  Days  Astatus\n",
       "0            WL    9            3A   2/12/2016         6     12     2        1\n",
       "1            WL    3            3A   1/12/2016         5     12     1        1\n",
       "2            WL    1            2A   3/12/2016         7     12     3        0\n",
       "3            WL   67            SL   3/12/2016         7     12     3        0\n",
       "4            WL   61            SL   3/12/2016         7     12     3        0"
      ]
     },
     "execution_count": 522,
     "metadata": {},
     "output_type": "execute_result"
    }
   ],
   "source": [
    "df.head()"
   ]
  },
  {
   "cell_type": "code",
   "execution_count": 523,
   "id": "523e2066",
   "metadata": {},
   "outputs": [],
   "source": [
    "df[\"ClassOfTravel\"]=df[\"ClassOfTravel\"].replace(['2A','3A','SL'],[0,1,2])"
   ]
  },
  {
   "cell_type": "code",
   "execution_count": 524,
   "id": "bade3edf",
   "metadata": {},
   "outputs": [],
   "source": [
    "df.drop(['JourneyDate'], 1, inplace=True)"
   ]
  },
  {
   "cell_type": "code",
   "execution_count": 525,
   "id": "118e4247",
   "metadata": {},
   "outputs": [
    {
     "data": {
      "text/html": [
       "<div>\n",
       "<style scoped>\n",
       "    .dataframe tbody tr th:only-of-type {\n",
       "        vertical-align: middle;\n",
       "    }\n",
       "\n",
       "    .dataframe tbody tr th {\n",
       "        vertical-align: top;\n",
       "    }\n",
       "\n",
       "    .dataframe thead th {\n",
       "        text-align: right;\n",
       "    }\n",
       "</style>\n",
       "<table border=\"1\" class=\"dataframe\">\n",
       "  <thead>\n",
       "    <tr style=\"text-align: right;\">\n",
       "      <th></th>\n",
       "      <th>BookingStatus</th>\n",
       "      <th>Wno</th>\n",
       "      <th>ClassOfTravel</th>\n",
       "      <th>Weekdays</th>\n",
       "      <th>Month</th>\n",
       "      <th>Days</th>\n",
       "      <th>Astatus</th>\n",
       "    </tr>\n",
       "  </thead>\n",
       "  <tbody>\n",
       "    <tr>\n",
       "      <th>0</th>\n",
       "      <td>WL</td>\n",
       "      <td>9</td>\n",
       "      <td>1</td>\n",
       "      <td>6</td>\n",
       "      <td>12</td>\n",
       "      <td>2</td>\n",
       "      <td>1</td>\n",
       "    </tr>\n",
       "    <tr>\n",
       "      <th>1</th>\n",
       "      <td>WL</td>\n",
       "      <td>3</td>\n",
       "      <td>1</td>\n",
       "      <td>5</td>\n",
       "      <td>12</td>\n",
       "      <td>1</td>\n",
       "      <td>1</td>\n",
       "    </tr>\n",
       "    <tr>\n",
       "      <th>2</th>\n",
       "      <td>WL</td>\n",
       "      <td>1</td>\n",
       "      <td>0</td>\n",
       "      <td>7</td>\n",
       "      <td>12</td>\n",
       "      <td>3</td>\n",
       "      <td>0</td>\n",
       "    </tr>\n",
       "    <tr>\n",
       "      <th>3</th>\n",
       "      <td>WL</td>\n",
       "      <td>67</td>\n",
       "      <td>2</td>\n",
       "      <td>7</td>\n",
       "      <td>12</td>\n",
       "      <td>3</td>\n",
       "      <td>0</td>\n",
       "    </tr>\n",
       "    <tr>\n",
       "      <th>4</th>\n",
       "      <td>WL</td>\n",
       "      <td>61</td>\n",
       "      <td>2</td>\n",
       "      <td>7</td>\n",
       "      <td>12</td>\n",
       "      <td>3</td>\n",
       "      <td>0</td>\n",
       "    </tr>\n",
       "  </tbody>\n",
       "</table>\n",
       "</div>"
      ],
      "text/plain": [
       "  BookingStatus  Wno  ClassOfTravel  Weekdays  Month  Days  Astatus\n",
       "0            WL    9              1         6     12     2        1\n",
       "1            WL    3              1         5     12     1        1\n",
       "2            WL    1              0         7     12     3        0\n",
       "3            WL   67              2         7     12     3        0\n",
       "4            WL   61              2         7     12     3        0"
      ]
     },
     "execution_count": 525,
     "metadata": {},
     "output_type": "execute_result"
    }
   ],
   "source": [
    "df.head()"
   ]
  },
  {
   "cell_type": "code",
   "execution_count": 526,
   "id": "42058180",
   "metadata": {},
   "outputs": [
    {
     "data": {
      "text/html": [
       "<div>\n",
       "<style scoped>\n",
       "    .dataframe tbody tr th:only-of-type {\n",
       "        vertical-align: middle;\n",
       "    }\n",
       "\n",
       "    .dataframe tbody tr th {\n",
       "        vertical-align: top;\n",
       "    }\n",
       "\n",
       "    .dataframe thead th {\n",
       "        text-align: right;\n",
       "    }\n",
       "</style>\n",
       "<table border=\"1\" class=\"dataframe\">\n",
       "  <thead>\n",
       "    <tr style=\"text-align: right;\">\n",
       "      <th></th>\n",
       "      <th>BookingStatus</th>\n",
       "      <th>Wno</th>\n",
       "      <th>ClassOfTravel</th>\n",
       "      <th>Weekdays</th>\n",
       "      <th>Month</th>\n",
       "      <th>Days</th>\n",
       "      <th>Astatus</th>\n",
       "    </tr>\n",
       "  </thead>\n",
       "  <tbody>\n",
       "    <tr>\n",
       "      <th>0</th>\n",
       "      <td>0</td>\n",
       "      <td>9</td>\n",
       "      <td>1</td>\n",
       "      <td>6</td>\n",
       "      <td>12</td>\n",
       "      <td>2</td>\n",
       "      <td>1</td>\n",
       "    </tr>\n",
       "    <tr>\n",
       "      <th>1</th>\n",
       "      <td>0</td>\n",
       "      <td>3</td>\n",
       "      <td>1</td>\n",
       "      <td>5</td>\n",
       "      <td>12</td>\n",
       "      <td>1</td>\n",
       "      <td>1</td>\n",
       "    </tr>\n",
       "    <tr>\n",
       "      <th>2</th>\n",
       "      <td>0</td>\n",
       "      <td>1</td>\n",
       "      <td>0</td>\n",
       "      <td>7</td>\n",
       "      <td>12</td>\n",
       "      <td>3</td>\n",
       "      <td>0</td>\n",
       "    </tr>\n",
       "    <tr>\n",
       "      <th>3</th>\n",
       "      <td>0</td>\n",
       "      <td>67</td>\n",
       "      <td>2</td>\n",
       "      <td>7</td>\n",
       "      <td>12</td>\n",
       "      <td>3</td>\n",
       "      <td>0</td>\n",
       "    </tr>\n",
       "    <tr>\n",
       "      <th>4</th>\n",
       "      <td>0</td>\n",
       "      <td>61</td>\n",
       "      <td>2</td>\n",
       "      <td>7</td>\n",
       "      <td>12</td>\n",
       "      <td>3</td>\n",
       "      <td>0</td>\n",
       "    </tr>\n",
       "    <tr>\n",
       "      <th>...</th>\n",
       "      <td>...</td>\n",
       "      <td>...</td>\n",
       "      <td>...</td>\n",
       "      <td>...</td>\n",
       "      <td>...</td>\n",
       "      <td>...</td>\n",
       "      <td>...</td>\n",
       "    </tr>\n",
       "    <tr>\n",
       "      <th>3220</th>\n",
       "      <td>1</td>\n",
       "      <td>25</td>\n",
       "      <td>2</td>\n",
       "      <td>5</td>\n",
       "      <td>7</td>\n",
       "      <td>19</td>\n",
       "      <td>0</td>\n",
       "    </tr>\n",
       "    <tr>\n",
       "      <th>3221</th>\n",
       "      <td>1</td>\n",
       "      <td>53</td>\n",
       "      <td>2</td>\n",
       "      <td>6</td>\n",
       "      <td>7</td>\n",
       "      <td>20</td>\n",
       "      <td>0</td>\n",
       "    </tr>\n",
       "    <tr>\n",
       "      <th>3222</th>\n",
       "      <td>1</td>\n",
       "      <td>58</td>\n",
       "      <td>2</td>\n",
       "      <td>6</td>\n",
       "      <td>7</td>\n",
       "      <td>20</td>\n",
       "      <td>0</td>\n",
       "    </tr>\n",
       "    <tr>\n",
       "      <th>3223</th>\n",
       "      <td>1</td>\n",
       "      <td>52</td>\n",
       "      <td>2</td>\n",
       "      <td>6</td>\n",
       "      <td>7</td>\n",
       "      <td>20</td>\n",
       "      <td>0</td>\n",
       "    </tr>\n",
       "    <tr>\n",
       "      <th>3224</th>\n",
       "      <td>1</td>\n",
       "      <td>19</td>\n",
       "      <td>2</td>\n",
       "      <td>6</td>\n",
       "      <td>7</td>\n",
       "      <td>20</td>\n",
       "      <td>0</td>\n",
       "    </tr>\n",
       "  </tbody>\n",
       "</table>\n",
       "<p>3225 rows × 7 columns</p>\n",
       "</div>"
      ],
      "text/plain": [
       "      BookingStatus  Wno  ClassOfTravel  Weekdays  Month  Days  Astatus\n",
       "0                 0    9              1         6     12     2        1\n",
       "1                 0    3              1         5     12     1        1\n",
       "2                 0    1              0         7     12     3        0\n",
       "3                 0   67              2         7     12     3        0\n",
       "4                 0   61              2         7     12     3        0\n",
       "...             ...  ...            ...       ...    ...   ...      ...\n",
       "3220              1   25              2         5      7    19        0\n",
       "3221              1   53              2         6      7    20        0\n",
       "3222              1   58              2         6      7    20        0\n",
       "3223              1   52              2         6      7    20        0\n",
       "3224              1   19              2         6      7    20        0\n",
       "\n",
       "[3225 rows x 7 columns]"
      ]
     },
     "execution_count": 526,
     "metadata": {},
     "output_type": "execute_result"
    }
   ],
   "source": [
    "df[\"BookingStatus\"]=df[\"BookingStatus\"].replace(['WL','TQWL'],[0,1])\n",
    "df"
   ]
  },
  {
   "cell_type": "code",
   "execution_count": 527,
   "id": "53bdb87d",
   "metadata": {},
   "outputs": [
    {
     "data": {
      "text/plain": [
       "array([1, 1, 0, ..., 0, 0, 0])"
      ]
     },
     "execution_count": 527,
     "metadata": {},
     "output_type": "execute_result"
    }
   ],
   "source": [
    "X = df.iloc[:,0:6].values\n",
    "y = df.iloc[:,6].values\n",
    "y=y.astype('int')\n",
    "y"
   ]
  },
  {
   "cell_type": "code",
   "execution_count": 528,
   "id": "2b28c213",
   "metadata": {},
   "outputs": [
    {
     "data": {
      "text/plain": [
       "array([[ 0,  9,  0,  6, 12,  2],\n",
       "       [ 0,  3,  0,  5, 12,  1],\n",
       "       [ 0,  1,  1,  7, 12,  3],\n",
       "       ...,\n",
       "       [ 1, 58,  2,  6,  7, 20],\n",
       "       [ 1, 52,  2,  6,  7, 20],\n",
       "       [ 1, 19,  2,  6,  7, 20]], dtype=int64)"
      ]
     },
     "execution_count": 528,
     "metadata": {},
     "output_type": "execute_result"
    }
   ],
   "source": [
    "X[:,0]=pd.factorize(X[:,0])[0]\n",
    "X[:,2]=pd.factorize(X[:,2])[0]\n",
    "X"
   ]
  },
  {
   "cell_type": "code",
   "execution_count": 529,
   "id": "12698cac",
   "metadata": {},
   "outputs": [
    {
     "data": {
      "text/plain": [
       "Index(['BookingStatus', 'Wno', 'ClassOfTravel', 'Weekdays', 'Month', 'Days',\n",
       "       'Astatus'],\n",
       "      dtype='object')"
      ]
     },
     "execution_count": 529,
     "metadata": {},
     "output_type": "execute_result"
    }
   ],
   "source": [
    "df.columns"
   ]
  },
  {
   "cell_type": "code",
   "execution_count": 530,
   "id": "72b4e7cf",
   "metadata": {},
   "outputs": [],
   "source": [
    "discrete_features=['BookingStatus' ,  'Weekdays',  'Days']\n",
    "continious_features=list(set(df.columns)-set(discrete_features) -{\"Astatus\"})"
   ]
  },
  {
   "cell_type": "code",
   "execution_count": 531,
   "id": "956d2cf3",
   "metadata": {},
   "outputs": [
    {
     "data": {
      "text/plain": [
       "<AxesSubplot:>"
      ]
     },
     "execution_count": 531,
     "metadata": {},
     "output_type": "execute_result"
    },
    {
     "data": {
      "image/png": "[encoded data removed]",
      "text/plain": [
       "<Figure size 432x288 with 1 Axes>"
      ]
     },
     "metadata": {
      "needs_background": "light"
     },
     "output_type": "display_data"
    }
   ],
   "source": [
    "sns.boxplot(data=df[continious_features])"
   ]
  },
  {
   "cell_type": "code",
   "execution_count": 532,
   "id": "c570da39",
   "metadata": {},
   "outputs": [
    {
     "data": {
      "text/plain": [
       "<AxesSubplot:xlabel='Weekdays', ylabel='Days'>"
      ]
     },
     "execution_count": 532,
     "metadata": {},
     "output_type": "execute_result"
    },
    {
     "data": {
      "image/png": "[encoded data removed]",
      "text/plain": [
       "<Figure size 432x288 with 1 Axes>"
      ]
     },
     "metadata": {
      "needs_background": "light"
     },
     "output_type": "display_data"
    }
   ],
   "source": [
    "sns.violinplot(x=\"Weekdays\",y=\"Days\",data=df,hue=\"Astatus\",split=True)"
   ]
  },
  {
   "cell_type": "code",
   "execution_count": 533,
   "id": "5c48ec48",
   "metadata": {},
   "outputs": [
    {
     "data": {
      "text/plain": [
       "<seaborn.axisgrid.FacetGrid at 0x242538b4580>"
      ]
     },
     "execution_count": 533,
     "metadata": {},
     "output_type": "execute_result"
    },
    {
     "data": {
      "image/png": "[encoded data removed]",
      "text/plain": [
       "<Figure size 405.625x360 with 1 Axes>"
      ]
     },
     "metadata": {
      "needs_background": "light"
     },
     "output_type": "display_data"
    }
   ],
   "source": [
    "sns.displot(x=\"Days\", data=df, hue=\"Astatus\",kde=True)"
   ]
  },
  {
   "cell_type": "code",
   "execution_count": 534,
   "id": "adccc698",
   "metadata": {},
   "outputs": [
    {
     "name": "stderr",
     "output_type": "stream",
     "text": [
      "C:\\Users\\MANEESH PRAVEEN\\anaconda3\\lib\\site-packages\\seaborn\\categorical.py:1296: UserWarning: 14.6% of the points cannot be placed; you may want to decrease the size of the markers or use stripplot.\n",
      "  warnings.warn(msg, UserWarning)\n",
      "C:\\Users\\MANEESH PRAVEEN\\anaconda3\\lib\\site-packages\\seaborn\\categorical.py:1296: UserWarning: 67.7% of the points cannot be placed; you may want to decrease the size of the markers or use stripplot.\n",
      "  warnings.warn(msg, UserWarning)\n"
     ]
    },
    {
     "data": {
      "text/plain": [
       "<AxesSubplot:xlabel='BookingStatus', ylabel='Days'>"
      ]
     },
     "execution_count": 534,
     "metadata": {},
     "output_type": "execute_result"
    },
    {
     "data": {
      "image/png": "[encoded data removed]",
      "text/plain": [
       "<Figure size 432x288 with 1 Axes>"
      ]
     },
     "metadata": {
      "needs_background": "light"
     },
     "output_type": "display_data"
    }
   ],
   "source": [
    "sns.swarmplot(x=\"BookingStatus\",y=\"Days\",data=df,hue=\"Astatus\")"
   ]
  },
  {
   "cell_type": "code",
   "execution_count": 535,
   "id": "c4998c92",
   "metadata": {},
   "outputs": [
    {
     "data": {
      "text/plain": [
       "<AxesSubplot:>"
      ]
     },
     "execution_count": 535,
     "metadata": {},
     "output_type": "execute_result"
    },
    {
     "data": {
      "image/png": "[encoded data removed]",
      "text/plain": [
       "<Figure size 432x288 with 2 Axes>"
      ]
     },
     "metadata": {
      "needs_background": "light"
     },
     "output_type": "display_data"
    }
   ],
   "source": [
    "sns.heatmap(abs(df[continious_features].corr()))"
   ]
  },
  {
   "cell_type": "code",
   "execution_count": 536,
   "id": "0679545b",
   "metadata": {},
   "outputs": [],
   "source": [
    "from sklearn.model_selection import train_test_split\n",
    "X_train, X_test, y_train, y_test = train_test_split(X,y, test_size=0.25, random_state=0)"
   ]
  },
  {
   "cell_type": "code",
   "execution_count": 537,
   "id": "fea9ffc8",
   "metadata": {},
   "outputs": [],
   "source": [
    "from sklearn.linear_model import LogisticRegression\n",
    "cf =LogisticRegression()"
   ]
  },
  {
   "cell_type": "code",
   "execution_count": 538,
   "id": "08ffbeef",
   "metadata": {},
   "outputs": [
    {
     "data": {
      "text/plain": [
       "LogisticRegression()"
      ]
     },
     "execution_count": 538,
     "metadata": {},
     "output_type": "execute_result"
    }
   ],
   "source": [
    "cf.fit(X_train, y_train)"
   ]
  },
  {
   "cell_type": "code",
   "execution_count": 539,
   "id": "fb5b8d53",
   "metadata": {},
   "outputs": [],
   "source": [
    "Y_pred = cf.predict(X_test)"
   ]
  },
  {
   "cell_type": "code",
   "execution_count": 540,
   "id": "5a680aea",
   "metadata": {},
   "outputs": [
    {
     "data": {
      "text/plain": [
       "array([[626,   0],\n",
       "       [181,   0]], dtype=int64)"
      ]
     },
     "execution_count": 540,
     "metadata": {},
     "output_type": "execute_result"
    }
   ],
   "source": [
    "from sklearn import metrics\n",
    "cnf_matrix = metrics.confusion_matrix(y_test, Y_pred)\n",
    "cnf_matrix"
   ]
  },
  {
   "cell_type": "code",
   "execution_count": 541,
   "id": "cb934b10",
   "metadata": {},
   "outputs": [
    {
     "data": {
      "text/plain": [
       "<Figure size 432x288 with 0 Axes>"
      ]
     },
     "execution_count": 541,
     "metadata": {},
     "output_type": "execute_result"
    },
    {
     "data": {
      "text/plain": [
       "<Figure size 432x288 with 0 Axes>"
      ]
     },
     "metadata": {},
     "output_type": "display_data"
    }
   ],
   "source": [
    "from sklearn.metrics import roc_auc_score\n",
    "from sklearn.metrics import roc_curve\n",
    "Log_roc = roc_auc_score(y_test, cf.predict(X_test))\n",
    "fpr, tpr, thresholds=roc_curve(y_test, cf.predict_proba(X_test)[:,1])\n",
    "plt.figure()"
   ]
  },
  {
   "cell_type": "code",
   "execution_count": 542,
   "id": "50fa58ba",
   "metadata": {},
   "outputs": [],
   "source": [
    "import pickle\n",
    "def predict(ml_model,dump):\n",
    "    model=ml_model.fit(X_train,y_train)\n",
    "    print('Training score : {}'.format(model.score(X_train,y_train)))\n",
    "    y_prediction=model.predict(X_test)\n",
    "    print('predictions are: \\n {}'.format(y_prediction))\n",
    "    print('\\n')\n",
    "    r2_score=metrics.r2_score(y_test,y_prediction)\n",
    "    print('r2 score: {}'.format(r2_score))\n",
    "    print('MAE:',metrics.mean_absolute_error(y_test,y_prediction))\n",
    "    print('MSE:',metrics.mean_squared_error(y_test,y_prediction))\n",
    "    print('RMSE:',np.sqrt(metrics.mean_squared_error(y_test,y_prediction)))\n",
    "    sns.distplot(y_test-y_prediction)"
   ]
  },
  {
   "cell_type": "code",
   "execution_count": 543,
   "id": "b172d188",
   "metadata": {},
   "outputs": [
    {
     "name": "stdout",
     "output_type": "stream",
     "text": [
      "Training score : 0.8567690770214944\n",
      "predictions are: \n",
      " [0.25       0.12       0.17       0.3        0.18       0.7\n",
      " 0.04       0.         0.08       0.74       0.11       0.03\n",
      " 0.6        0.61       0.78       0.35       0.06       0.06\n",
      " 0.39       0.37       0.01       0.1        0.06       0.21\n",
      " 0.01       0.2        0.01       0.02       0.19       0.27\n",
      " 0.07       0.18       0.34       0.37       0.01       0.1\n",
      " 0.2        0.18       0.19       0.02       0.         0.01\n",
      " 0.         0.11       0.06       0.88433333 0.11       0.08\n",
      " 0.02       0.04       0.06       0.42       0.01       0.53733333\n",
      " 0.11       0.         0.03       0.05       0.01       0.\n",
      " 0.02       0.04       0.63       0.09       0.01       0.545\n",
      " 0.4235     0.13       0.37083333 0.28       0.07       0.01\n",
      " 0.26       0.25       0.16       0.09       0.13       0.06\n",
      " 0.14       0.31       0.1        0.03       0.13166667 0.02\n",
      " 0.03       0.436      0.01       0.         0.         0.38\n",
      " 0.03       0.53       0.05       0.         0.13       0.03\n",
      " 0.22       0.51       0.269      0.72       0.02       0.16\n",
      " 0.16       0.21       0.03       0.30333333 0.22       0.47\n",
      " 0.04       0.19       0.38333333 0.17       0.11       0.3\n",
      " 0.43       0.45       0.26       0.62       0.04       0.48\n",
      " 0.02       0.02       0.06       0.02       0.17       0.04\n",
      " 0.         0.67       0.12       0.26       0.03       0.67\n",
      " 0.22       0.08       0.28       0.06       0.03       0.1\n",
      " 0.1        0.29       0.06       0.2        0.715      0.31916667\n",
      " 0.172      0.142      0.37       0.1475     0.09       0.13\n",
      " 0.53       0.1        0.05       0.         0.         0.28916667\n",
      " 0.06       0.52       0.24       0.07       0.4        0.\n",
      " 0.09       0.07       0.49       0.01       0.         0.2\n",
      " 0.66       0.09       0.01       0.01       0.67       0.1\n",
      " 0.65       0.08       0.15       0.18       0.2        0.08\n",
      " 0.07       0.         0.55       0.22       0.22       0.01\n",
      " 0.01       0.09       0.02       0.29       0.19       0.01\n",
      " 0.235      0.01       0.2        0.17       0.63       0.42\n",
      " 0.13       0.19       0.29       0.01       0.32       0.11\n",
      " 0.04       0.04       0.24       0.082      0.19       0.\n",
      " 0.33       0.02       0.49       0.5565     0.07       0.2\n",
      " 0.03       0.19       0.285      0.02       0.14       0.12\n",
      " 0.03       0.566      0.16       0.43983333 0.1925     0.13\n",
      " 0.32       0.25       0.04       0.27       0.17       0.06\n",
      " 0.24666667 0.34       0.06       0.24       0.2        0.19\n",
      " 0.5025     0.04       0.51       0.1        0.22       0.581\n",
      " 0.12       0.57133333 0.01       0.04       0.         0.515\n",
      " 0.22       0.39       0.05       0.03       0.33       0.27\n",
      " 0.14       0.41333333 0.03       0.38       0.01       0.02\n",
      " 0.01       0.         0.02       0.03       0.09       0.01\n",
      " 0.         0.46       0.29       0.         0.81       0.41333333\n",
      " 0.23       0.14       0.01       0.         0.02       0.04\n",
      " 0.38       0.27       0.15       0.02       0.         0.73\n",
      " 0.159      0.11       0.02       0.11       0.04       0.41\n",
      " 0.3        0.4685     0.21       0.3        0.18       0.\n",
      " 0.13       0.01       0.         0.37       0.         0.3425\n",
      " 0.585      0.1        0.07       0.         0.8        0.26\n",
      " 0.         0.56416667 0.24       0.03       0.01       0.31\n",
      " 0.03       0.18       0.04       0.04       0.416      0.346\n",
      " 0.65333333 0.175      0.21       0.6        0.13       0.02\n",
      " 0.12       0.         0.02       0.19       0.02       0.16\n",
      " 0.541      0.615      0.02       0.38       0.         0.\n",
      " 0.07       0.14       0.14       0.14       0.04       0.13\n",
      " 0.78       0.21       0.24       0.04       0.05       0.03\n",
      " 0.         0.12       0.4605     0.22       0.15       0.19\n",
      " 0.4        0.41333333 0.15       0.06       0.925      0.46\n",
      " 0.04       0.1425     0.53       0.285      0.25       0.01\n",
      " 0.68       0.42       0.08       0.01       0.38       0.12\n",
      " 0.11       0.02       0.51       0.68       0.         0.12\n",
      " 0.58       0.06       0.07       0.74       0.36       0.24083333\n",
      " 0.01       0.         0.45       0.19733333 0.         0.02\n",
      " 0.07       0.05       0.35       0.2        0.02       0.2\n",
      " 0.01       0.31       0.6775     0.14       0.03       0.22\n",
      " 0.19       0.61       0.         0.44       0.17       0.27\n",
      " 0.04       0.44       0.03       0.         0.39       0.17\n",
      " 0.03       0.06       0.         0.         0.03       0.45683333\n",
      " 0.01       0.02       0.59       0.16       0.03       0.01\n",
      " 0.43       0.12       0.05       0.08       0.01       0.02\n",
      " 0.17       0.38       0.23       0.06       0.08       0.32\n",
      " 0.60816667 0.15       0.04       0.12       0.395      0.01\n",
      " 0.36       0.02       0.58       0.29       0.05       0.23\n",
      " 0.635      0.4        0.02       0.03       0.05       0.03\n",
      " 0.1        0.14       0.12       0.         0.53       0.11\n",
      " 0.07       0.12       0.63       0.26       0.         0.24\n",
      " 0.42       0.47       0.34       0.06       0.07       0.28\n",
      " 0.02       0.19       0.08       0.31       0.04       0.09\n",
      " 0.03       0.         0.55       0.72       0.72       0.\n",
      " 0.65       0.02       0.5        0.08       0.01       0.12\n",
      " 0.05       0.35       0.19       0.26       0.55       0.18\n",
      " 0.1        0.34       0.18       0.1        0.2        0.55\n",
      " 0.         0.35       0.02       0.17       0.72       0.81\n",
      " 0.01       0.05       0.01       0.666      0.01       0.15\n",
      " 0.02       0.01       0.08       0.01       0.34       0.03\n",
      " 0.1        0.         0.14       0.07       0.06       0.07\n",
      " 0.44       0.17       0.248      0.         0.42083333 0.18\n",
      " 0.18       0.06       0.245      0.64333333 0.465      0.335\n",
      " 0.72933333 0.24       0.31       0.348      0.03       0.34\n",
      " 0.01       0.         0.18       0.51       0.03       0.06\n",
      " 0.03       0.31       0.         0.482      0.13       0.05\n",
      " 0.37       0.09       0.29       0.05       0.01       0.36\n",
      " 0.02       0.18       0.15       0.281      0.48       0.41\n",
      " 0.07       0.09       0.13       0.49       0.09       0.62\n",
      " 0.575      0.         0.03       0.18       0.01       0.21\n",
      " 0.69666667 0.25       0.01       0.36666667 0.66       0.305\n",
      " 0.09       0.76       0.19333333 0.7        0.01       0.49\n",
      " 0.2        0.01       0.31       0.02       0.898      0.71\n",
      " 0.57       0.         0.03       0.03       0.07       0.02\n",
      " 0.36       0.01       0.01       0.17       0.07       0.32\n",
      " 0.14       0.3        0.31       0.01       0.12       0.\n",
      " 0.05       0.11       0.11       0.20766667 0.02       0.06\n",
      " 0.42       0.14       0.08       0.03       0.21       0.12\n",
      " 0.27       0.3        0.03       0.08       0.08       0.29\n",
      " 0.04       0.26       0.         0.04       0.01       0.02\n",
      " 0.49       0.05       0.25       0.39       0.01       0.15\n",
      " 0.13       0.04       0.08       0.32916667 0.46       0.63666667\n",
      " 0.06       0.06       0.39       0.01       0.16       0.11\n",
      " 0.11       0.07       0.         0.01       0.         0.11\n",
      " 0.5475     0.05       0.255      0.01       0.         0.5\n",
      " 0.02       0.16       0.06       0.635      0.75       0.03\n",
      " 0.64       0.21       0.         0.01       0.24       0.08166667\n",
      " 0.07       0.24       0.519      0.04       0.04       0.09\n",
      " 0.         0.03       0.07       0.12       0.24       0.67\n",
      " 0.42       0.53       0.06       0.16       0.08       0.07\n",
      " 0.03       0.01       0.02       0.05       0.16       0.13\n",
      " 0.08       0.04       0.52       0.         0.01       0.35\n",
      " 0.08       0.34       0.74       0.03       0.02       0.345\n",
      " 0.05       0.34       0.03       0.03       0.         0.43\n",
      " 0.1        0.         0.42       0.49       0.34       0.31\n",
      " 0.27       0.         0.16       0.         0.2        0.\n",
      " 0.07       0.01       0.02       0.89       0.11       0.03\n",
      " 0.01       0.04       0.03       0.18       0.11       0.135\n",
      " 0.01       0.24       0.115      0.06       0.59916667 0.03\n",
      " 0.01       0.04       0.17       0.37       0.9        0.05\n",
      " 0.1        0.1        0.29       0.26       0.455      0.36\n",
      " 0.14666667 0.01       0.72       0.13       0.11       0.04\n",
      " 0.69       0.01       0.22583333 0.45       0.08       0.\n",
      " 0.         0.23       0.23       0.1        0.17       0.17\n",
      " 0.06       0.19       0.32       0.16666667 0.02       0.70083333\n",
      " 0.31       0.31       0.2        0.09       0.3        0.49666667\n",
      " 0.18       0.01       0.11      ]\n",
      "\n",
      "\n",
      "r2 score: 0.03531278925211356\n",
      "MAE: 0.28587154068566706\n",
      "MSE: 0.1678387976042958\n",
      "RMSE: 0.40968133665605977\n"
     ]
    },
    {
     "name": "stderr",
     "output_type": "stream",
     "text": [
      "C:\\Users\\MANEESH PRAVEEN\\anaconda3\\lib\\site-packages\\seaborn\\distributions.py:2557: FutureWarning: `distplot` is a deprecated function and will be removed in a future version. Please adapt your code to use either `displot` (a figure-level function with similar flexibility) or `histplot` (an axes-level function for histograms).\n",
      "  warnings.warn(msg, FutureWarning)\n"
     ]
    },
    {
     "data": {
      "image/png": "[encoded data removed]",
      "text/plain": [
       "<Figure size 432x288 with 1 Axes>"
      ]
     },
     "metadata": {
      "needs_background": "light"
     },
     "output_type": "display_data"
    }
   ],
   "source": [
    "from sklearn.ensemble import RandomForestRegressor\n",
    "predict(RandomForestRegressor(),1)"
   ]
  },
  {
   "cell_type": "code",
   "execution_count": 544,
   "id": "37de0ad3",
   "metadata": {},
   "outputs": [],
   "source": [
    "from sklearn.model_selection import train_test_split\n",
    "\n",
    "from sklearn.metrics import accuracy_score,r2_score\n",
    "\n",
    "\n",
    "from sklearn.linear_model import LogisticRegression\n",
    "from sklearn.tree import DecisionTreeClassifier\n",
    "from sklearn.neighbors import  KNeighborsClassifier\n",
    "from sklearn.ensemble import RandomForestClassifier\n",
    "from sklearn.neural_network import  MLPClassifier\n",
    "from sklearn.svm import SVC\n"
   ]
  },
  {
   "cell_type": "code",
   "execution_count": 545,
   "id": "f9fc5fec",
   "metadata": {},
   "outputs": [
    {
     "name": "stdout",
     "output_type": "stream",
     "text": [
      "X Train :  (2418, 6)\n",
      "X Test  :  (807, 6)\n",
      "Y Train :  (2418,)\n",
      "Y Test  :  (807,)\n"
     ]
    }
   ],
   "source": [
    "#Defined X value and y value , and split the data train\n",
    "X = df.drop(columns=\"Astatus\")           \n",
    "y = df[\"Astatus\"]    # y = quality\n",
    "\n",
    "# split the data train and test\n",
    "X_train, X_test, y_train, y_test = train_test_split(X, y, test_size=0.25, random_state=42)\n",
    "\n",
    "print(\"X Train : \", X_train.shape)\n",
    "print(\"X Test  : \", X_test.shape)\n",
    "print(\"Y Train : \", y_train.shape)\n",
    "print(\"Y Test  : \", y_test.shape)"
   ]
  },
  {
   "cell_type": "code",
   "execution_count": 546,
   "id": "9841cff2",
   "metadata": {},
   "outputs": [],
   "source": [
    "LR = LogisticRegression()\n",
    "DTR = DecisionTreeClassifier()\n",
    "RFR = RandomForestClassifier()\n",
    "KNR = KNeighborsClassifier()\n",
    "MLP = MLPClassifier()\n",
    "SVR=SVC()"
   ]
  },
  {
   "cell_type": "code",
   "execution_count": 547,
   "id": "213632e0",
   "metadata": {},
   "outputs": [],
   "source": [
    "from sklearn.model_selection import cross_val_score"
   ]
  },
  {
   "cell_type": "code",
   "execution_count": 548,
   "id": "e64ba871",
   "metadata": {},
   "outputs": [],
   "source": [
    "X_train,X_test,y_train,y_test = train_test_split(X,y, test_size=0.2)"
   ]
  },
  {
   "cell_type": "code",
   "execution_count": 549,
   "id": "5ffa7b4e",
   "metadata": {},
   "outputs": [],
   "source": [
    "from sklearn.tree import DecisionTreeClassifier"
   ]
  },
  {
   "cell_type": "code",
   "execution_count": 550,
   "id": "12c1f0bb",
   "metadata": {},
   "outputs": [
    {
     "data": {
      "text/plain": [
       "DecisionTreeClassifier()"
      ]
     },
     "execution_count": 550,
     "metadata": {},
     "output_type": "execute_result"
    }
   ],
   "source": [
    "clf = DecisionTreeClassifier()\n",
    "clf.fit(X_train, y_train)"
   ]
  },
  {
   "cell_type": "code",
   "execution_count": 551,
   "id": "037f6782",
   "metadata": {},
   "outputs": [],
   "source": [
    "y_hat = clf.predict(X_test)"
   ]
  },
  {
   "cell_type": "code",
   "execution_count": 552,
   "id": "f25f6595",
   "metadata": {},
   "outputs": [],
   "source": [
    "from sklearn.metrics import accuracy_score, confusion_matrix, classification_report"
   ]
  },
  {
   "cell_type": "code",
   "execution_count": 553,
   "id": "e3c921ef",
   "metadata": {},
   "outputs": [],
   "source": [
    "from sklearn.model_selection import train_test_split"
   ]
  },
  {
   "cell_type": "code",
   "execution_count": 554,
   "id": "464331f5",
   "metadata": {},
   "outputs": [
    {
     "data": {
      "text/plain": [
       "0.7333333333333333"
      ]
     },
     "execution_count": 554,
     "metadata": {},
     "output_type": "execute_result"
    }
   ],
   "source": [
    "accuracy_score(y_test,y_hat)"
   ]
  },
  {
   "cell_type": "code",
   "execution_count": 555,
   "id": "648388f5",
   "metadata": {},
   "outputs": [
    {
     "data": {
      "text/html": [
       "<div>\n",
       "<style scoped>\n",
       "    .dataframe tbody tr th:only-of-type {\n",
       "        vertical-align: middle;\n",
       "    }\n",
       "\n",
       "    .dataframe tbody tr th {\n",
       "        vertical-align: top;\n",
       "    }\n",
       "\n",
       "    .dataframe thead th {\n",
       "        text-align: right;\n",
       "    }\n",
       "</style>\n",
       "<table border=\"1\" class=\"dataframe\">\n",
       "  <thead>\n",
       "    <tr style=\"text-align: right;\">\n",
       "      <th>Predicted</th>\n",
       "      <th>0</th>\n",
       "      <th>1</th>\n",
       "    </tr>\n",
       "    <tr>\n",
       "      <th>Actual</th>\n",
       "      <th></th>\n",
       "      <th></th>\n",
       "    </tr>\n",
       "  </thead>\n",
       "  <tbody>\n",
       "    <tr>\n",
       "      <th>0</th>\n",
       "      <td>425</td>\n",
       "      <td>84</td>\n",
       "    </tr>\n",
       "    <tr>\n",
       "      <th>1</th>\n",
       "      <td>88</td>\n",
       "      <td>48</td>\n",
       "    </tr>\n",
       "  </tbody>\n",
       "</table>\n",
       "</div>"
      ],
      "text/plain": [
       "Predicted    0   1\n",
       "Actual            \n",
       "0          425  84\n",
       "1           88  48"
      ]
     },
     "execution_count": 555,
     "metadata": {},
     "output_type": "execute_result"
    }
   ],
   "source": [
    "pd.crosstab(y_test,y_hat,rownames=[\"Actual\"],colnames=[\"Predicted\"])"
   ]
  },
  {
   "cell_type": "code",
   "execution_count": 556,
   "id": "4128a522",
   "metadata": {},
   "outputs": [
    {
     "name": "stdout",
     "output_type": "stream",
     "text": [
      "              precision    recall  f1-score   support\n",
      "\n",
      "           0       0.83      0.83      0.83       509\n",
      "           1       0.36      0.35      0.36       136\n",
      "\n",
      "    accuracy                           0.73       645\n",
      "   macro avg       0.60      0.59      0.59       645\n",
      "weighted avg       0.73      0.73      0.73       645\n",
      "\n"
     ]
    }
   ],
   "source": [
    "print(classification_report(y_test, y_hat))"
   ]
  },
  {
   "cell_type": "code",
   "execution_count": 557,
   "id": "8002adf0",
   "metadata": {},
   "outputs": [],
   "source": [
    "scores = cross_val_score(clf, X, y, cv=10,scoring='accuracy')"
   ]
  },
  {
   "cell_type": "code",
   "execution_count": 558,
   "id": "1da4137b",
   "metadata": {},
   "outputs": [
    {
     "data": {
      "text/plain": [
       "array([0.65634675, 0.72136223, 0.57585139, 0.72136223, 0.64705882,\n",
       "       0.66459627, 0.73602484, 0.66459627, 0.69254658, 0.6863354 ])"
      ]
     },
     "execution_count": 558,
     "metadata": {},
     "output_type": "execute_result"
    }
   ],
   "source": [
    "scores"
   ]
  },
  {
   "cell_type": "code",
   "execution_count": 559,
   "id": "d22ed81c",
   "metadata": {},
   "outputs": [
    {
     "data": {
      "text/plain": [
       "0.6766080803030594"
      ]
     },
     "execution_count": 559,
     "metadata": {},
     "output_type": "execute_result"
    }
   ],
   "source": [
    "scores.mean()"
   ]
  },
  {
   "cell_type": "markdown",
   "id": "f7631e40",
   "metadata": {},
   "source": [
    "## Utilisation de la Logistic Regression¶"
   ]
  },
  {
   "cell_type": "code",
   "execution_count": 560,
   "id": "0fee7ab5",
   "metadata": {},
   "outputs": [],
   "source": [
    "from sklearn.model_selection import train_test_split\n",
    "from sklearn.linear_model import LogisticRegression"
   ]
  },
  {
   "cell_type": "code",
   "execution_count": 561,
   "id": "13954c61",
   "metadata": {},
   "outputs": [],
   "source": [
    "X_train, X_test , y_train, y_test = train_test_split(X, y , test_size = 0.2)"
   ]
  },
  {
   "cell_type": "code",
   "execution_count": 562,
   "id": "f1ccd9ae",
   "metadata": {},
   "outputs": [
    {
     "data": {
      "text/plain": [
       "LogisticRegression(solver='liblinear')"
      ]
     },
     "execution_count": 562,
     "metadata": {},
     "output_type": "execute_result"
    }
   ],
   "source": [
    "clf = LogisticRegression(solver='liblinear')\n",
    "clf.fit(X_train, y_train)"
   ]
  },
  {
   "cell_type": "code",
   "execution_count": 563,
   "id": "78914901",
   "metadata": {},
   "outputs": [],
   "source": [
    "from sklearn.metrics import accuracy_score, confusion_matrix, classification_report"
   ]
  },
  {
   "cell_type": "code",
   "execution_count": 564,
   "id": "7e41410a",
   "metadata": {},
   "outputs": [],
   "source": [
    "predictions =clf.predict(X_test)"
   ]
  },
  {
   "cell_type": "code",
   "execution_count": 565,
   "id": "f928bd11",
   "metadata": {},
   "outputs": [
    {
     "data": {
      "text/plain": [
       "0.8046511627906977"
      ]
     },
     "execution_count": 565,
     "metadata": {},
     "output_type": "execute_result"
    }
   ],
   "source": [
    "accuracy_score( predictions, y_test)"
   ]
  },
  {
   "cell_type": "code",
   "execution_count": 566,
   "id": "724429fa",
   "metadata": {},
   "outputs": [
    {
     "data": {
      "text/html": [
       "<div>\n",
       "<style scoped>\n",
       "    .dataframe tbody tr th:only-of-type {\n",
       "        vertical-align: middle;\n",
       "    }\n",
       "\n",
       "    .dataframe tbody tr th {\n",
       "        vertical-align: top;\n",
       "    }\n",
       "\n",
       "    .dataframe thead th {\n",
       "        text-align: right;\n",
       "    }\n",
       "</style>\n",
       "<table border=\"1\" class=\"dataframe\">\n",
       "  <thead>\n",
       "    <tr style=\"text-align: right;\">\n",
       "      <th>Predictions</th>\n",
       "      <th>0</th>\n",
       "    </tr>\n",
       "    <tr>\n",
       "      <th>Reel</th>\n",
       "      <th></th>\n",
       "    </tr>\n",
       "  </thead>\n",
       "  <tbody>\n",
       "    <tr>\n",
       "      <th>0</th>\n",
       "      <td>519</td>\n",
       "    </tr>\n",
       "    <tr>\n",
       "      <th>1</th>\n",
       "      <td>126</td>\n",
       "    </tr>\n",
       "  </tbody>\n",
       "</table>\n",
       "</div>"
      ],
      "text/plain": [
       "Predictions    0\n",
       "Reel            \n",
       "0            519\n",
       "1            126"
      ]
     },
     "execution_count": 566,
     "metadata": {},
     "output_type": "execute_result"
    }
   ],
   "source": [
    "pd.crosstab(y_test, predictions, rownames=[\"Reel\"], colnames=[\"Predictions\"])"
   ]
  },
  {
   "cell_type": "code",
   "execution_count": 567,
   "id": "b38ba624",
   "metadata": {},
   "outputs": [],
   "source": [
    "from sklearn.model_selection import cross_val_score"
   ]
  },
  {
   "cell_type": "code",
   "execution_count": 568,
   "id": "54a2d5fe",
   "metadata": {},
   "outputs": [
    {
     "data": {
      "text/plain": [
       "0.8000946969696969"
      ]
     },
     "execution_count": 568,
     "metadata": {},
     "output_type": "execute_result"
    }
   ],
   "source": [
    "cross_val_score(clf, X, y , scoring ='accuracy', cv=100).mean()"
   ]
  },
  {
   "cell_type": "markdown",
   "id": "5bb31641",
   "metadata": {},
   "source": [
    "## Decision Tree Decision"
   ]
  },
  {
   "cell_type": "code",
   "execution_count": 569,
   "id": "18626000",
   "metadata": {},
   "outputs": [],
   "source": [
    "from sklearn.tree import DecisionTreeClassifier"
   ]
  },
  {
   "cell_type": "code",
   "execution_count": 570,
   "id": "7ef511b7",
   "metadata": {},
   "outputs": [
    {
     "data": {
      "text/plain": [
       "0.6663352272727272"
      ]
     },
     "execution_count": 570,
     "metadata": {},
     "output_type": "execute_result"
    }
   ],
   "source": [
    "clf = DecisionTreeClassifier()\n",
    "cross_val_score(clf, X, y, scoring='accuracy' , cv=100).mean()"
   ]
  },
  {
   "cell_type": "markdown",
   "id": "b2fa7dfa",
   "metadata": {},
   "source": [
    "## Random Forest Classifier"
   ]
  },
  {
   "cell_type": "code",
   "execution_count": 571,
   "id": "6177c797",
   "metadata": {},
   "outputs": [],
   "source": [
    "from sklearn.ensemble import RandomForestClassifier\n",
    "clf = RandomForestClassifier()"
   ]
  },
  {
   "cell_type": "code",
   "execution_count": 572,
   "id": "113ff60c",
   "metadata": {},
   "outputs": [],
   "source": [
    "clf.fit(X_train, y_train)\n",
    "predictions =clf.predict(X_test)"
   ]
  },
  {
   "cell_type": "code",
   "execution_count": 573,
   "id": "2f907cb1",
   "metadata": {},
   "outputs": [
    {
     "data": {
      "text/plain": [
       "0.7937984496124031"
      ]
     },
     "execution_count": 573,
     "metadata": {},
     "output_type": "execute_result"
    }
   ],
   "source": [
    "accuracy_score( predictions, y_test)"
   ]
  },
  {
   "cell_type": "code",
   "execution_count": 574,
   "id": "c59714df",
   "metadata": {},
   "outputs": [],
   "source": [
    "discrete_features=['sex','cp','fbs','restecg','exng','slp','caa','thall']\n",
    "continious_features=list(set(df.columns)-set(discrete_features) -{\"output\"})"
   ]
  },
  {
   "cell_type": "code",
   "execution_count": null,
   "id": "5a68e2c5",
   "metadata": {},
   "outputs": [],
   "source": []
  },
  {
   "cell_type": "code",
   "execution_count": null,
   "id": "b66d9c0d",
   "metadata": {},
   "outputs": [],
   "source": []
  },
  {
   "cell_type": "code",
   "execution_count": null,
   "id": "34ddf170",
   "metadata": {},
   "outputs": [],
   "source": []
  }
 ],
 "metadata": {
  "kernelspec": {
   "display_name": "Python 3",
   "language": "python",
   "name": "python3"
  },
  "language_info": {
   "codemirror_mode": {
    "name": "ipython",
    "version": 3
   },
   "file_extension": ".py",
   "mimetype": "text/x-python",
   "name": "python",
   "nbconvert_exporter": "python",
   "pygments_lexer": "ipython3",
   "version": "3.8.8"
  }
 },
 "nbformat": 4,
 "nbformat_minor": 5
}
